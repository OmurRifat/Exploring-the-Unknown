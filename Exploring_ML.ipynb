{
  "nbformat": 4,
  "nbformat_minor": 0,
  "metadata": {
    "colab": {
      "provenance": [],
      "authorship_tag": "ABX9TyOebfASbYWggd9ojpzgkSoj",
      "include_colab_link": true
    },
    "kernelspec": {
      "name": "python3",
      "display_name": "Python 3"
    },
    "language_info": {
      "name": "python"
    }
  },
  "cells": [
    {
      "cell_type": "markdown",
      "metadata": {
        "id": "view-in-github",
        "colab_type": "text"
      },
      "source": [
        "<a href=\"https://colab.research.google.com/github/OmurRifat/Exploring-the-Unknown/blob/Explore-ML/Exploring_ML.ipynb\" target=\"_parent\"><img src=\"https://colab.research.google.com/assets/colab-badge.svg\" alt=\"Open In Colab\"/></a>"
      ]
    },
    {
      "cell_type": "code",
      "execution_count": null,
      "metadata": {
        "id": "Imkw3pMnRxST"
      },
      "outputs": [],
      "source": [
        "import numpy as np\n",
        "\n",
        "class WhaleOptimization():\n",
        "    def __init__(self, opt_func, constraints, nsols, b, a, a_step, maximize=False):\n",
        "        self._opt_func = opt_func\n",
        "        self._constraints = constraints\n",
        "        self._sols = self._init_solutions(nsols)\n",
        "        self._b = b\n",
        "        self._a = a\n",
        "        self._a_step = a_step\n",
        "        self._maximize = maximize\n",
        "        self._best_solutions = []\n",
        "\n",
        "    def get_solutions(self):\n",
        "        \"\"\"return solutions\"\"\"\n",
        "        return self._sols\n",
        "\n",
        "    def optimize(self):\n",
        "        \"\"\"solutions randomly encircle, search or attack\"\"\"\n",
        "        ranked_sol = self._rank_solutions()\n",
        "        best_sol = ranked_sol[0]\n",
        "        #include best solution in next generation solutions\n",
        "        new_sols = [best_sol]\n",
        "\n",
        "        for s in ranked_sol[1:]:\n",
        "            if np.random.uniform(0.0, 1.0) > 0.5:\n",
        "                A = self._compute_A()\n",
        "                norm_A = np.linalg.norm(A)\n",
        "                if norm_A < 1.0:\n",
        "                    new_s = self._encircle(s, best_sol, A)\n",
        "                else:\n",
        "                    ###select random sol\n",
        "                    random_sol = self._sols[np.random.randint(self._sols.shape[0])]\n",
        "                    new_s = self._search(s, random_sol, A)\n",
        "            else:\n",
        "                new_s = self._attack(s, best_sol)\n",
        "            new_sols.append(self._constrain_solution(new_s))\n",
        "\n",
        "        self._sols = np.stack(new_sols)\n",
        "        self._a -= self._a_step\n",
        "\n",
        "    def _init_solutions(self, nsols):\n",
        "        \"\"\"initialize solutions uniform randomly in space\"\"\"\n",
        "        sols = []\n",
        "        for c in self._constraints:\n",
        "            sols.append(np.random.uniform(c[0], c[1], size=nsols))\n",
        "\n",
        "        sols = np.stack(sols, axis=-1)\n",
        "        return sols\n",
        "\n",
        "    def _constrain_solution(self, sol):\n",
        "        \"\"\"ensure solutions are valid wrt to constraints\"\"\"\n",
        "        constrain_s = []\n",
        "        for c, s in zip(self._constraints, sol):\n",
        "            if c[0] > s:\n",
        "                s = c[0]\n",
        "            elif c[1] < s:\n",
        "                s = c[1]\n",
        "            constrain_s.append(s)\n",
        "        return constrain_s\n",
        "\n",
        "    def _rank_solutions(self):\n",
        "        \"\"\"find best solution\"\"\"\n",
        "        fitness = self._opt_func(self._sols[:, 0], self._sols[:, 1])\n",
        "        sol_fitness = [(f, s) for f, s in zip(fitness, self._sols)]\n",
        "\n",
        "        #best solution is at the front of the list\n",
        "        ranked_sol = list(sorted(sol_fitness, key=lambda x:x[0], reverse=self._maximize))\n",
        "        self._best_solutions.append(ranked_sol[0])\n",
        "\n",
        "        return [ s[1] for s in ranked_sol]\n",
        "\n",
        "    def print_best_solutions(self):\n",
        "        print('generation best solution history')\n",
        "        print('([fitness], [solution])')\n",
        "        for s in self._best_solutions:\n",
        "            print(s)\n",
        "        print('\\n')\n",
        "        print('best solution')\n",
        "        print('([fitness], [solution])')\n",
        "        print(sorted(self._best_solutions, key=lambda x:x[0], reverse=self._maximize)[0])\n",
        "\n",
        "    def _compute_A(self):\n",
        "        r = np.random.uniform(0.0, 1.0, size=2)\n",
        "        return (2.0*np.multiply(self._a, r))-self._a\n",
        "\n",
        "    def _compute_C(self):\n",
        "        return 2.0*np.random.uniform(0.0, 1.0, size=2)\n",
        "\n",
        "    def _encircle(self, sol, best_sol, A):\n",
        "        D = self._encircle_D(sol, best_sol)\n",
        "        return best_sol - np.multiply(A, D)\n",
        "\n",
        "    def _encircle_D(self, sol, best_sol):\n",
        "        C = self._compute_C()\n",
        "        D = np.linalg.norm(np.multiply(C, best_sol)  - sol)\n",
        "        return D\n",
        "\n",
        "    def _search(self, sol, rand_sol, A):\n",
        "        D = self._search_D(sol, rand_sol)\n",
        "        return rand_sol - np.multiply(A, D)\n",
        "\n",
        "    def _search_D(self, sol, rand_sol):\n",
        "        C = self._compute_C()\n",
        "        return np.linalg.norm(np.multiply(C, rand_sol) - sol)\n",
        "\n",
        "    def _attack(self, sol, best_sol):\n",
        "        D = np.linalg.norm(best_sol - sol)\n",
        "        L = np.random.uniform(-1.0, 1.0, size=2)\n",
        "        return np.multiply(np.multiply(D,np.exp(self._b*L)), np.cos(2.0*np.pi*L))+best_sol"
      ]
    },
    {
      "cell_type": "code",
      "source": [
        "import numpy as np\n",
        "import pandas as pd\n",
        "import matplotlib.pyplot as plt\n",
        "import seaborn as sns\n",
        "from sklearn.model_selection import train_test_split\n",
        "from sklearn.preprocessing import LabelEncoder\n",
        "from sklearn.ensemble import RandomForestClassifier\n",
        "from sklearn.metrics import classification_report, confusion_matrix"
      ],
      "metadata": {
        "id": "iD49f94RHwNQ"
      },
      "execution_count": null,
      "outputs": []
    },
    {
      "cell_type": "code",
      "source": [
        "data = pd.read_csv(\"Thyroid_Diff.csv\")"
      ],
      "metadata": {
        "id": "Vbn4iFpaIYgv"
      },
      "execution_count": null,
      "outputs": []
    },
    {
      "cell_type": "code",
      "source": [
        "row, col = data.shape\n",
        "print(row)\n",
        "print(col)"
      ],
      "metadata": {
        "colab": {
          "base_uri": "https://localhost:8080/"
        },
        "id": "LlOdxBBFIqlO",
        "outputId": "1faebb93-aaba-4981-8803-c19cbd2bccb3"
      },
      "execution_count": null,
      "outputs": [
        {
          "output_type": "stream",
          "name": "stdout",
          "text": [
            "383\n",
            "17\n"
          ]
        }
      ]
    },
    {
      "cell_type": "code",
      "source": [
        "data.head()"
      ],
      "metadata": {
        "id": "i11tvmziI8xc"
      },
      "execution_count": null,
      "outputs": []
    },
    {
      "cell_type": "code",
      "source": [
        "label_encode = LabelEncoder()\n",
        "data['Gender'] = label_encode.fit_transform(data['Gender'])\n",
        "data['Smoking'] = label_encode.fit_transform(data['Smoking'])\n",
        "data['Hx Smoking'] = label_encode.fit_transform(data['Hx Smoking'])\n",
        "data['Hx Radiothreapy'] = label_encode.fit_transform(data['Hx Radiothreapy'])\n",
        "data['Thyroid Function'] = label_encode.fit_transform(data['Thyroid Function'])\n",
        "data['Physical Examination'] = label_encode.fit_transform(data['Physical Examination'])\n",
        "data['Adenopathy'] = label_encode.fit_transform(data['Adenopathy'])\n",
        "data['Pathology'] = label_encode.fit_transform(data['Pathology'])\n",
        "data['Focality'] = label_encode.fit_transform(data['Focality'])\n",
        "data['Risk'] = label_encode.fit_transform(data['Risk'])\n",
        "data['T'] = label_encode.fit_transform(data['T'])\n",
        "data['N'] = label_encode.fit_transform(data['N'])\n",
        "data['M'] = label_encode.fit_transform(data['M'])\n",
        "data['Stage'] = label_encode.fit_transform(data['Stage'])\n",
        "data['Response'] = label_encode.fit_transform(data['Response'])\n",
        "data['Recurred'] = label_encode.fit_transform(data['Recurred'])"
      ],
      "metadata": {
        "id": "JhF2ZKjDJw2u"
      },
      "execution_count": null,
      "outputs": []
    },
    {
      "cell_type": "code",
      "source": [
        "data.head()"
      ],
      "metadata": {
        "id": "EV3qQB_dKBOp"
      },
      "execution_count": null,
      "outputs": []
    },
    {
      "cell_type": "code",
      "source": [
        "correlation_matrix = data.corr()\n",
        "plt.figure(figsize=(12,8))\n",
        "sns.heatmap(correlation_matrix, annot=True, cmap='coolwarm', fmt=\".2f\")\n",
        "plt.title('Correlation Matrix')\n",
        "plt.show()"
      ],
      "metadata": {
        "id": "WhYaagontO1H"
      },
      "execution_count": null,
      "outputs": []
    },
    {
      "cell_type": "code",
      "source": [
        "X = data.drop(['Recurred'], axis=1)\n",
        "y = data['Recurred']\n",
        "X_train, X_test, y_train, y_test = train_test_split(X, y, test_size=0.2, random_state=42)"
      ],
      "metadata": {
        "id": "rT0AUuOMtxFY"
      },
      "execution_count": null,
      "outputs": []
    },
    {
      "cell_type": "code",
      "source": [
        "model = RandomForestClassifier(n_estimators=100, random_state=42)\n",
        "model.fit(X_train, y_train)\n",
        "y_pred = model.predict(X_test)"
      ],
      "metadata": {
        "id": "1JPbTyuDt0tv"
      },
      "execution_count": null,
      "outputs": []
    },
    {
      "cell_type": "code",
      "source": [
        "print(\"Classification Report\")\n",
        "print(classification_report(y_test, y_pred))\n",
        "print(\"Confusion Matrix : \")\n",
        "print(confusion_matrix(y_test, y_pred))"
      ],
      "metadata": {
        "colab": {
          "base_uri": "https://localhost:8080/"
        },
        "id": "-vbN1Ugzt-QZ",
        "outputId": "e8f17744-7eea-400e-a9d8-89477632546b"
      },
      "execution_count": null,
      "outputs": [
        {
          "output_type": "stream",
          "name": "stdout",
          "text": [
            "Classification Report\n",
            "              precision    recall  f1-score   support\n",
            "\n",
            "           0       0.98      1.00      0.99        58\n",
            "           1       1.00      0.95      0.97        19\n",
            "\n",
            "    accuracy                           0.99        77\n",
            "   macro avg       0.99      0.97      0.98        77\n",
            "weighted avg       0.99      0.99      0.99        77\n",
            "\n",
            "Confusion Matrix : \n",
            "[[58  0]\n",
            " [ 1 18]]\n"
          ]
        }
      ]
    }
  ]
}